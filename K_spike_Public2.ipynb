{
  "nbformat": 4,
  "nbformat_minor": 0,
  "metadata": {
    "colab": {
      "provenance": []
    },
    "kernelspec": {
      "name": "python3",
      "display_name": "Python 3"
    }
  },
  "cells": [
    {
      "cell_type": "markdown",
      "metadata": {
        "id": "RhNY656772mM"
      },
      "source": [
        "# Implementation of Algorithm\n",
        "\n",
        "Note that standard numpy implementations are used for finding roots and calculating eigenvectors, which differ from the methods given in the paper. Any algorithm for these steps can be pasted into this notebook."
      ]
    },
    {
      "cell_type": "code",
      "metadata": {
        "id": "V6ENjuMxiAPH"
      },
      "source": [
        "import numpy as np\n",
        "import matplotlib.pyplot as plt\n",
        "from numpy import linalg as LA\n",
        "\n",
        "# Note: edit this to implement a polynomial root finder of your choice\n",
        "def root_finder(c):\n",
        "  \"\"\"\n",
        "  Finds roots of the polynomial::\n",
        "\n",
        "    c[0] * x**n + c[1] * x**(n-1) + ... + c[n-1]*x + c[n]\n",
        "  \"\"\"\n",
        "  return np.roots(c)\n",
        "\n",
        "# Note: edit this to implement a different eigenvector solver\n",
        "def eigenvectors(H):\n",
        "  \"\"\"\n",
        "  Compute the eigenvalues and right eigenvectors of a square array.\n",
        "  \"\"\"\n",
        "  return LA.eig(H)\n",
        "\n",
        "def moment(x, pi, n):\n",
        "  \"\"\"\n",
        "  Returns the nth moment given model parameters.\n",
        "  Input: pi gives the probabilities of sources (states of U).\n",
        "  x gives the probability of the Bernoulli RV for each state of U.\n",
        "  Output: nth moment\n",
        "  \"\"\"\n",
        "  return np.dot(pi, x**n)\n",
        "\n",
        "def Hankel(x, pi):\n",
        "  \"\"\"\n",
        "  Calculates the model Hankel matrix given model parameters.\n",
        "  Input: pi gives the probabilities of sources (states of U).\n",
        "  x gives the probability of the Bernoulli random variables for each state of U.\n",
        "  Output: Hankel matrix of size (k+1) x (k+1)\n",
        "  \"\"\"\n",
        "  k = len(x)\n",
        "  result = np.zeros((k+1, k+1))\n",
        "  for i in range(k+1):\n",
        "    for j in range(k+1):\n",
        "      m = i + j\n",
        "      result[i, j] = moment(x, pi, m)\n",
        "  return result\n",
        "\n",
        "def empirical_moment(data, m):\n",
        "  \"\"\"\n",
        "  Calculates an empirical estimate for the mth moment given data.\n",
        "  Input: Data is a list of at least m samples of a Bernoulli random variable.\n",
        "  m is the order of the desired moment.\n",
        "  Output: mth moment\n",
        "  \"\"\"\n",
        "  # Count frequency of seeing 1s for first m entries\n",
        "  all_ones = [np.prod(sample[:m]) for sample in data]\n",
        "  return np.mean(all_ones)\n",
        "\n",
        "def empirical_Hankel(data, k):\n",
        "  \"\"\"\n",
        "  Calculates an empirical Hankel matrix.\n",
        "  Input: Data is a list of at least m samples of a Bernoulli random variable.\n",
        "  k is the assumed support.\n",
        "  Output: Hankel matrix of size (k+1) x (k+1)\n",
        "  \"\"\"\n",
        "  result = np.zeros((k+1, k+1))\n",
        "  moments = [empirical_moment(data, m) for m in range(2*k + 1)]\n",
        "  for i in range(k+1):\n",
        "    for j in range(k+1):\n",
        "      m = i + j\n",
        "      result[i, j] = moments[m]\n",
        "  return result\n",
        "\n",
        "def Vandermonde(x, k):\n",
        "  \"\"\"\n",
        "  Returns a matrix with all 1s for the first row, x for second row,\n",
        "  x^2 elementwise for the third row, etc for k rows\n",
        "  \"\"\"\n",
        "  return np.array([np.array(x)**i for i in range(k)])\n",
        "\n",
        "# Main algorithm\n",
        "def recover_spikes(data, k):\n",
        "  \"\"\"\n",
        "  Calculates an empirical estimate for the mth moment given data.\n",
        "  Input: Data is a list of at least m samples of a Bernoulli random variable.\n",
        "  k is the order of the support/number of sources.\n",
        "  Output: pi gives the probabilities of the sources (states of U)\n",
        "  x gives the probabilities of the Bernoulli random variables.\n",
        "  \"\"\"\n",
        "  H = empirical_Hankel(data, k)\n",
        "  w, v = LA.eig(H)\n",
        "\n",
        "  # Find probabilities of Bernoulli\n",
        "  smallest_eigenvector = v.T[-1]\n",
        "  coefficient_list = list(smallest_eigenvector)\n",
        "  coefficient_list.reverse()\n",
        "  x = root_finder(coefficient_list)\n",
        "  print(\"Roots of polynomial found at: {}\".format(x))\n",
        "\n",
        "  # Find probabilities of sources\n",
        "  moments = [empirical_moment(data, m) for m in range(k)]\n",
        "  V = Vandermonde(x, k)\n",
        "  V_inv = LA.inv(V)\n",
        "  pi = np.matmul(V_inv, moments)\n",
        "  print(\"Probability of sources: {}\".format(pi))\n",
        "  return pi, x"
      ],
      "execution_count": null,
      "outputs": []
    },
    {
      "cell_type": "markdown",
      "metadata": {
        "id": "brRQUMFuG6Og"
      },
      "source": [
        "# Implementation including plots of polynomial and spikes\n",
        "\n",
        "This implementation is not for use, but gives a nice visualization of the polynomial given by the kernel of the Hankel matrix. The true model is plotted with black spikes, and the reconstructed one is plotted with blue spikes."
      ]
    },
    {
      "cell_type": "code",
      "metadata": {
        "id": "JkxE8psUG4Xf"
      },
      "source": [
        "# Code for plotting steps\n",
        "def plot_spikes(x, pi, col):\n",
        "  plt.axhline(y=0, xmin=0, xmax=1, linewidth=1, color = 'k')\n",
        "  for x_i, pi_i in zip(x, pi):\n",
        "    plt.axvline(x=x_i, ymin=0, ymax = pi_i, linewidth=2, color=col)\n",
        "\n",
        "def poly(coefs, x):\n",
        "  result = 0.0\n",
        "  coefs = list(coefs)\n",
        "  coefs.reverse()\n",
        "  for i, c in enumerate(coefs):\n",
        "    result += c * (x**i)\n",
        "  return result\n",
        "\n",
        "def plot_polynomial(coefs, label):\n",
        "  xs = [i/1000.0 for i in range(1000)]\n",
        "  ys = [poly(coefs, x) for x in xs]\n",
        "  plt.plot(xs, ys, label = str(label))\n",
        "\n",
        "def recover_spikes_plots(x_true, pi_true, data, k):\n",
        "  H = empirical_Hankel(data, k)\n",
        "  w, v = LA.eig(H)\n",
        "  print(H)\n",
        "\n",
        "  # Find probabilities of Bernoulli\n",
        "  smallest_eigenvector = v.T[-1]\n",
        "  coefficient_list = list(smallest_eigenvector)\n",
        "  coefficient_list.reverse()\n",
        "  x = root_finder(coefficient_list)\n",
        "\n",
        "  # Find probabilities of sources\n",
        "  moments = [empirical_moment(data, m) for m in range(k)]\n",
        "  V = Vandermonde(x, k)\n",
        "  V_inv = LA.inv(V)\n",
        "  pi = np.matmul(V_inv, moments)\n",
        "\n",
        "  # Add plot of polynomial from true Hankel matrix for comparison\n",
        "  H_true = Hankel(x_true, pi_true)\n",
        "  print(H_true)\n",
        "  w, v = LA.eig(H_true)\n",
        "  print(\"Smallest Eigenvalue: {}\".format(w[-1]))\n",
        "  smallest_eigenvector = v.T[-1]\n",
        "  coefficient_list_true = list(smallest_eigenvector)\n",
        "  coefficient_list_true.reverse()\n",
        "\n",
        "  plot_spikes(x_true, pi_true, 'k')\n",
        "  plot_spikes(x, pi, 'b')\n",
        "  plot_polynomial(coefficient_list, \"Kernel Polynomial for Empirical Hankel Matrix\")\n",
        "  plot_polynomial(coefficient_list_true, \"Kernel Polynomial for True Hankel Matrix\")\n",
        "  plt.legend()\n",
        "\n",
        "  H_recon = Hankel(x, pi)\n",
        "  print(H_recon)\n",
        "\n",
        "  print(\"Roots of polynomial found at: {}\".format(x))\n",
        "  print(\"Probability of sources: {}\".format(pi))\n",
        "  return pi, x\n"
      ],
      "execution_count": null,
      "outputs": []
    },
    {
      "cell_type": "markdown",
      "metadata": {
        "id": "U8afQTPWM-aM"
      },
      "source": [
        "# Testing\n",
        "The following code generates data and tests the algorithm\n"
      ]
    },
    {
      "cell_type": "code",
      "metadata": {
        "id": "Bi62SNNoM9xx",
        "colab": {
          "base_uri": "https://localhost:8080/",
          "height": 360
        },
        "outputId": "2c5c7cd0-8e6f-4344-e64f-edb5abb64e31"
      },
      "source": [
        "import random\n",
        "\n",
        "# Model Specifications\n",
        "k = 3\n",
        "x = np.array([.25, .5, .75])\n",
        "pi = np.array([.35, .3, .35])\n",
        "N = 1000000 # Number of samples\n",
        "\n",
        "data = []\n",
        "for i in range(N):\n",
        "  p = random.choices(x, weights=pi)[0]\n",
        "  # Draw 2k samples from given p\n",
        "  data.append(np.random.binomial(1, p, 2*k + 1))\n",
        "data = np.array(data)\n",
        "print('Data Generated')\n",
        "\n",
        "# Use this line if you want the plots of the polynomial\n",
        "recover_spikes_plots(x, pi, data, k)\n",
        "# Use this line if you just want to reconstruct the model\n",
        "#recover_spikes(data, k)\n"
      ],
      "execution_count": null,
      "outputs": [
        {
          "output_type": "stream",
          "text": [
            "Data Generated\n",
            "[[1.       0.500317 0.29357  0.190302]\n",
            " [0.500317 0.29357  0.190302 0.130845]\n",
            " [0.29357  0.190302 0.130845 0.0928  ]\n",
            " [0.190302 0.130845 0.0928   0.067168]]\n",
            "[[1.         0.5        0.29375    0.190625  ]\n",
            " [0.5        0.29375    0.190625   0.13085938]\n",
            " [0.29375    0.190625   0.13085938 0.09277344]\n",
            " [0.190625   0.13085938 0.09277344 0.06706543]]\n",
            "Smallest Eigenvalue: 4.946276061488736e-18\n",
            "[[1.         0.500317   0.29357    0.19030896]\n",
            " [0.500317   0.29357    0.19030896 0.13078882]\n",
            " [0.29357    0.19030896 0.13078882 0.09289598]\n",
            " [0.19030896 0.13078882 0.09289598 0.06719014]]\n",
            "Roots of polynomial found at: [0.73869284 0.39027488 0.18305827]\n",
            "Probability of sources: [0.40375788 0.44840469 0.14783744]\n"
          ],
          "name": "stdout"
        },
        {
          "output_type": "execute_result",
          "data": {
            "text/plain": [
              "(array([0.40375788, 0.44840469, 0.14783744]),\n",
              " array([0.73869284, 0.39027488, 0.18305827]))"
            ]
          },
          "metadata": {
            "tags": []
          },
          "execution_count": 5
        },
        {
          "output_type": "display_data",
          "data": {
            "image/png": "[encoded data removed]",
            "text/plain": [
              "<Figure size 432x288 with 1 Axes>"
            ]
          },
          "metadata": {
            "tags": [],
            "needs_background": "light"
          }
        }
      ]
    },
    {
      "cell_type": "code",
      "metadata": {
        "id": "6u3OqKKYAAl1"
      },
      "source": [],
      "execution_count": null,
      "outputs": []
    }
  ]
}